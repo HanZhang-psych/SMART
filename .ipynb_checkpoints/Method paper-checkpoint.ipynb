{
 "cells": [
  {
   "cell_type": "code",
   "execution_count": null,
   "id": "1590e5a2",
   "metadata": {},
   "outputs": [],
   "source": [
    "%load_ext autoreload\n",
    "%autoreload 2\n",
    "%matplotlib inline"
   ]
  },
  {
   "cell_type": "code",
   "execution_count": null,
   "id": "4f86d3dd",
   "metadata": {},
   "outputs": [],
   "source": [
    "import time\n",
    "import pandas as pd\n",
    "import numpy as np\n",
    "import matplotlib.pyplot as plt\n",
    "import SMART_Funcs as SF"
   ]
  },
  {
   "cell_type": "markdown",
   "id": "14173881",
   "metadata": {},
   "source": [
    "# Flanker (on-time data)"
   ]
  },
  {
   "cell_type": "code",
   "execution_count": null,
   "id": "bb203e6a",
   "metadata": {},
   "outputs": [],
   "source": [
    "fl = pd.read_csv('flanker_all.csv')\n",
    "\n",
    "# some data cleaning\n",
    "fl['PT'] = (1000*(fl['forcedRT_resp.rt']-fl['target_onset'])).astype(int)\n",
    "fl['acc'] = fl['forcedRT_resp.corr']\n",
    "\n",
    "fl = fl[fl.ontime=='Ontime']\n",
    "fl = fl[(fl.PT >= 0) & (fl.PT <= 1000)]\n",
    "\n",
    "wide_fl = fl.pivot_table(values=['PT','acc'], index='participant', columns='trial_type', aggfunc=tuple)\n",
    "# rename column names\n",
    "wide_fl.columns = [f'{x}_{y}' for x,y in wide_fl.columns]\n",
    "# convert each cell to np array\n",
    "wide_fl[['PT_C','PT_I','acc_C','acc_I']] = wide_fl[['PT_C','PT_I','acc_C','acc_I']].applymap(np.array)\n",
    "\n",
    "# reset index\n",
    "wide_fl.reset_index(inplace=True)"
   ]
  },
  {
   "cell_type": "code",
   "execution_count": null,
   "id": "32854d2f",
   "metadata": {},
   "outputs": [],
   "source": [
    "from SMARTClass import SMART\n",
    "\n",
    "# Settings\n",
    "data = wide_fl\n",
    "depVar1 = 'acc_I'\n",
    "timeVar1 ='PT_I'\n",
    "depVar2 = 'acc_C'\n",
    "timeVar2 = 'PT_C'\n",
    "krnSize = 30\n",
    "minTime = 1\n",
    "maxTime = 1001\n",
    "stepTime = 1\n",
    "nPerm = 1000\n",
    "baseline = 0.5\n",
    "sigLevel = 0.05\n",
    "nJobs = 16\n",
    "binary = True"
   ]
  },
  {
   "cell_type": "markdown",
   "id": "596eb298",
   "metadata": {},
   "source": [
    "## Run SMART"
   ]
  },
  {
   "cell_type": "code",
   "execution_count": null,
   "id": "17f2a47d",
   "metadata": {},
   "outputs": [],
   "source": [
    "# paired sample test\n",
    "t = time.time()\n",
    "pairedSamp = SMART(data, depVar1, timeVar1, depVar2, timeVar2)\n",
    "pairedSamp.runSmooth(krnSize, minTime, maxTime, stepTime)\n",
    "pairedSamp.runPermutations(nPerm, nJobs=nJobs, binary=binary)\n",
    "pairedSamp.runStats(sigLevel)\n",
    "pairedSamp.runPlot()\n",
    "print(time.time() - t)"
   ]
  },
  {
   "cell_type": "code",
   "execution_count": null,
   "id": "db909f20",
   "metadata": {},
   "outputs": [],
   "source": [
    "# one sample test vs baseline\n",
    "t = time.time()\n",
    "oneSamp = SMART(data, depVar1, timeVar1)\n",
    "oneSamp.runSmooth(krnSize, minTime, maxTime, stepTime)\n",
    "oneSamp.runPermutations(nPerm, baseline, nJobs, binary)\n",
    "oneSamp.runStats(sigLevel)\n",
    "oneSamp.runPlot()\n",
    "print(time.time() - t)"
   ]
  },
  {
   "cell_type": "markdown",
   "id": "938c11ea",
   "metadata": {},
   "source": [
    "## Plotting"
   ]
  },
  {
   "cell_type": "code",
   "execution_count": null,
   "id": "3601fe09",
   "metadata": {},
   "outputs": [],
   "source": [
    "fig, (ax1) = plt.subplots(1,1)\n",
    "lw = 2\n",
    "# Plot smoothed data\n",
    "ax1.plot(pairedSamp.timeVect, pairedSamp.weighDv1Average, '-r', linewidth=lw)\n",
    "ax1.plot(pairedSamp.timeVect, pairedSamp.weighDv2Average, '-b', linewidth=lw)\n",
    "ax1.plot(pairedSamp.timeVect, [0.5]*len(pairedSamp.timeVect), color='grey', linestyle='--', linewidth=lw)\n",
    "\n",
    "# Plot confidence intervals\n",
    "ax1.fill_between(pairedSamp.timeVect, pairedSamp.weighDv1Average-pairedSamp.conf95, pairedSamp.weighDv1Average+pairedSamp.conf95, color='orange', alpha=0.25)\n",
    "ax1.fill_between(pairedSamp.timeVect, pairedSamp.weighDv2Average-pairedSamp.conf95, pairedSamp.weighDv2Average+pairedSamp.conf95, color='blue', alpha=0.25)\n",
    "\n",
    "# Plot significant time points (incongruent trials below 50%)\n",
    "for ind, i in enumerate(oneSamp.sigCL):\n",
    "    if oneSamp.sumTvals[ind] >= oneSamp.sigThres:\n",
    "        if ind == 0:\n",
    "            ax1.plot(oneSamp.timeVect[i], oneSamp.weighDv1Average[i], '-k', linewidth=lw*1.5)\n",
    "            \n",
    "ax1.set_xlim(pairedSamp.timeMin, pairedSamp.timeMax-1)\n",
    "#ax1.set_ylim(0, 1.1)\n",
    "ax1.legend([pairedSamp.dv1, pairedSamp.dv2],loc='best')\n",
    "ax1.set_xlabel('PT', fontsize=10)\n",
    "ax1.set_ylabel('Acc', size=10)"
   ]
  }
 ],
 "metadata": {
  "kernelspec": {
   "display_name": "Python 3 (ipykernel)",
   "language": "python",
   "name": "python3"
  },
  "language_info": {
   "codemirror_mode": {
    "name": "ipython",
    "version": 3
   },
   "file_extension": ".py",
   "mimetype": "text/x-python",
   "name": "python",
   "nbconvert_exporter": "python",
   "pygments_lexer": "ipython3",
   "version": "3.9.13"
  }
 },
 "nbformat": 4,
 "nbformat_minor": 5
}
